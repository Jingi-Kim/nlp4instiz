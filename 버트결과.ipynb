{
 "cells": [
  {
   "cell_type": "code",
   "execution_count": null,
   "metadata": {},
   "outputs": [],
   "source": [
    "import pandas as pd\n",
    "\n",
    "# 분류가 아직 안된 댓글\n",
    "galaxy = pd.read_csv('./instiz_comments_galaxy.txt', sep='\\t')\n",
    "\n",
    "# BERT로 분류된 데이터\n",
    "bert_galaxy = pd.read_csv('./galaxy_done.txt',header=0, names=['label'], sep='\\t')\n",
    "\n",
    "\n",
    "galaxy['label']=bert_galaxy['label']"
   ]
  },
  {
   "cell_type": "code",
   "execution_count": null,
   "metadata": {},
   "outputs": [],
   "source": [
    "# 긍정 데이터\n",
    "galaxy_pos = galaxy[galaxy['label']==1]\n",
    "print(galaxy_pos.shape)\n",
    "\n",
    "# 부정 데이터\n",
    "galaxy_neg = galaxy[galaxy['label']==0]\n",
    "print(galaxy_neg.shape)"
   ]
  },
  {
   "cell_type": "markdown",
   "metadata": {},
   "source": [
    "## Export Dataframes"
   ]
  },
  {
   "cell_type": "code",
   "execution_count": 1,
   "metadata": {},
   "outputs": [],
   "source": [
    "galaxy.to_csv('./galaxy_labeled.txt', sep='\\t', index=False)\n",
    "galaxy_pos.to_csv('./galaxy_pos.txt', sep='\\t', index=False)\n",
    "galaxy_neg.to_csv('./galaxy_neg.txt', sep='\\t', index=False)"
   ]
  }
 ],
 "metadata": {
  "kernelspec": {
   "display_name": "Python 3",
   "language": "python",
   "name": "python3"
  },
  "language_info": {
   "codemirror_mode": {
    "name": "ipython",
    "version": 3
   },
   "file_extension": ".py",
   "mimetype": "text/x-python",
   "name": "python",
   "nbconvert_exporter": "python",
   "pygments_lexer": "ipython3",
   "version": "3.7.1"
  }
 },
 "nbformat": 4,
 "nbformat_minor": 4
}
